{
 "cells": [
  {
   "cell_type": "code",
   "execution_count": 6,
   "id": "872738b4",
   "metadata": {},
   "outputs": [
    {
     "name": "stdout",
     "output_type": "stream",
     "text": [
      "A : 5\n",
      "G : M\n",
      "fee is 300\n"
     ]
    }
   ],
   "source": [
    "\"\"\"print output \n",
    "\n",
    "A = 5 & G = M\n",
    "A = 2 & G = F\n",
    "\"\"\"\n",
    "A = int(input(\"A : \"))\n",
    "G = input(\"G : \")\n",
    "if ((A == 1 or A == 2) and G ==\"M\"):\n",
    "    print(\"fee is 100\")\n",
    "elif((A == 3  or A == 4) and G ==\"F\"):\n",
    "    print(\"fee is 200\")\n",
    "elif (A ==5 and G ==\"M\"):\n",
    "    print(\"fee is 300\")\n",
    "else:\n",
    "    print(\"no fee\")"
   ]
  },
  {
   "cell_type": "code",
   "execution_count": null,
   "id": "b9a19010",
   "metadata": {},
   "outputs": [],
   "source": [
    "# conditional statement \n",
    "# single line if / ternory operator\n",
    "\n",
    "food = input(\"food : \")\n",
    "eat = \"yes\" if food == \"cake\" else \"no\"\n",
    "print(eat)"
   ]
  },
  {
   "cell_type": "code",
   "execution_count": 3,
   "id": "4d8b5452",
   "metadata": {},
   "outputs": [
    {
     "name": "stdout",
     "output_type": "stream",
     "text": [
      "food : cake\n",
      "sweet\n"
     ]
    }
   ],
   "source": [
    "food = input(\"food : \")\n",
    "print(\"sweet\") if food == \"cake\" or food == \"jalebi\" else print(\" not sweet\")\n"
   ]
  },
  {
   "cell_type": "code",
   "execution_count": null,
   "id": "c37e2516",
   "metadata": {},
   "outputs": [],
   "source": [
    "age = int(input(\"age : \"))\n",
    "vote = (\"yes\",\"no\") [age <= 18]\n",
    "print(vote)\n",
    "\"\"\"if (age<18):\n",
    "    vote = \"yes\"\n",
    "else:\n",
    "    vote = \"no\n",
    "\"\"\""
   ]
  },
  {
   "cell_type": "code",
   "execution_count": null,
   "id": "294d8c4b",
   "metadata": {},
   "outputs": [],
   "source": [
    "##>50000 10% tex\n",
    "##<50000 20% tax\n",
    "sal = float(input(\" salary : \"))\n",
    "tax = sal*(0.1,0.2)[sal<=50000]\n",
    "print(tax)"
   ]
  },
  {
   "cell_type": "code",
   "execution_count": 2,
   "id": "658f1e0c",
   "metadata": {},
   "outputs": [
    {
     "name": "stdout",
     "output_type": "stream",
     "text": [
      "p : 20\n",
      "r : 30\n",
      "t : 40\n",
      "240.0\n"
     ]
    }
   ],
   "source": [
    "p = float(input(\"p : \"))\n",
    "r = float(input(\"r : \"))\n",
    "t = float(input(\"t : \"))\n",
    "si = (p*r*t)/100\n",
    "print(si)"
   ]
  },
  {
   "cell_type": "code",
   "execution_count": 9,
   "id": "97f50291",
   "metadata": {},
   "outputs": [
    {
     "name": "stdout",
     "output_type": "stream",
     "text": [
      "enter a marks: 85\n",
      "grade of the student B\n"
     ]
    }
   ],
   "source": [
    "# grade students based on marks \n",
    "\n",
    "marks = int(input(\"enter a marks: \"))\n",
    "if(marks >= 90):\n",
    "    grade = \"A\"\n",
    "elif(marks >= 80 and marks < 90):\n",
    "    grade = \"B\"\n",
    "elif(marks >= 70 and marks < 80):\n",
    "    grade = \"C\"\n",
    "else:\n",
    "    grade = \"D\"\n",
    "print(\"grade of the student\", grade)\n",
    "    "
   ]
  },
  {
   "cell_type": "code",
   "execution_count": 16,
   "id": "eab36714",
   "metadata": {},
   "outputs": [
    {
     "name": "stdout",
     "output_type": "stream",
     "text": [
      "enter a age: 90\n",
      "cannot drive\n"
     ]
    }
   ],
   "source": [
    "# nesting if else\n",
    "\n",
    "\n",
    "age = int(input(\"enter a age: \"))\n",
    "if (age >=18):\n",
    "    if (age >80 ):\n",
    "        print(\"cannot drive\")\n",
    "    else:\n",
    "        print(\"can drive\")\n",
    "else:\n",
    "    print(\"cannot drive\")"
   ]
  },
  {
   "cell_type": "code",
   "execution_count": 19,
   "id": "eefe2b37",
   "metadata": {},
   "outputs": [
    {
     "name": "stdout",
     "output_type": "stream",
     "text": [
      "enter a number: 4\n",
      "EVEN\n"
     ]
    }
   ],
   "source": [
    "#  print odd and even number\n",
    "num = int(input(\"enter a number: \"))\n",
    "rem = num % 2\n",
    "if (rem == 0):\n",
    "    print(\"EVEN\")\n",
    "else:\n",
    "    print(\"ODD\")"
   ]
  },
  {
   "cell_type": "code",
   "execution_count": 21,
   "id": "75499f45",
   "metadata": {},
   "outputs": [
    {
     "name": "stdout",
     "output_type": "stream",
     "text": [
      "enter a number: 4\n",
      "This number is even\n"
     ]
    }
   ],
   "source": [
    "# print odd and even number\n",
    "num = int(input(\"enter a number: \"))\n",
    "if(num % 2) == 0:\n",
    "    print(\"This number is even\")\n",
    "else: \n",
    "    print(\"This number is odd\")"
   ]
  },
  {
   "cell_type": "code",
   "execution_count": 27,
   "id": "06add1e7",
   "metadata": {},
   "outputs": [
    {
     "name": "stdout",
     "output_type": "stream",
     "text": [
      "enter a first number: 85\n",
      "enter a second number: 74\n",
      "enter a thurd number: 95\n",
      "thurd number is largest 95\n"
     ]
    }
   ],
   "source": [
    "a = int(input(\"enter a first number: \"))\n",
    "b = int(input(\"enter a second number: \"))\n",
    "c = int(input(\"enter a thurd number: \"))\n",
    "\n",
    "if (a >=b and b>=c):\n",
    "    print(\"first number is largest\",a)\n",
    "    \n",
    "elif(b>=c):\n",
    "    print(\"second number is largest\",b)\n",
    "    \n",
    "else:\n",
    "    print(\"thurd number is largest\",c)"
   ]
  },
  {
   "cell_type": "code",
   "execution_count": 2,
   "id": "5a6c4c1a",
   "metadata": {},
   "outputs": [
    {
     "name": "stdout",
     "output_type": "stream",
     "text": [
      "enter a number: 5\n",
      "multiple of 5\n"
     ]
    }
   ],
   "source": [
    "# number of multiple of 5 or not\n",
    "\n",
    "x = int(input(\"enter a number: \"))\n",
    "if (x %5  == 0):\n",
    "    print(\"multiple of 5\")\n",
    "else:\n",
    "    print(\"not a miltiple 5\")"
   ]
  },
  {
   "cell_type": "code",
   "execution_count": null,
   "id": "a1377e92",
   "metadata": {},
   "outputs": [],
   "source": [
    "movies = []\n",
    "first = input(\"enter a first movie name \")\n",
    "second = input(\"enter a second movie name \")\n",
    "thurd = input(\"enter a thurd movie name \")\n",
    "movies.append(first)\n",
    "movies.append(second)\n",
    "movies.append(thurd)\n",
    "\n",
    "print(movies)"
   ]
  },
  {
   "cell_type": "code",
   "execution_count": 2,
   "id": "5062daa9",
   "metadata": {},
   "outputs": [
    {
     "name": "stdout",
     "output_type": "stream",
     "text": [
      "hello nishad\n",
      "hello nishad\n",
      "hello nishad\n",
      "hello nishad\n",
      "hello nishad\n",
      "6\n"
     ]
    }
   ],
   "source": [
    "## loop in python\n",
    "\n",
    "count = 1\n",
    "while count <=5:\n",
    "    print(\"hello nishad\")\n",
    "    count += 1\n",
    "print(count)"
   ]
  },
  {
   "cell_type": "code",
   "execution_count": 1,
   "id": "7c307e1c",
   "metadata": {},
   "outputs": [
    {
     "name": "stdout",
     "output_type": "stream",
     "text": [
      "1\n",
      "2\n",
      "3\n",
      "4\n",
      "5\n",
      "6\n",
      "7\n",
      "8\n",
      "9\n",
      "10\n",
      "11\n",
      "12\n",
      "13\n",
      "14\n",
      "15\n",
      "16\n",
      "17\n",
      "18\n",
      "19\n",
      "20\n",
      "21\n",
      "22\n",
      "23\n",
      "24\n",
      "25\n",
      "26\n",
      "27\n",
      "28\n",
      "29\n",
      "30\n",
      "31\n",
      "32\n",
      "33\n",
      "34\n",
      "35\n",
      "36\n",
      "37\n",
      "38\n",
      "39\n",
      "40\n",
      "41\n",
      "42\n",
      "43\n",
      "44\n",
      "45\n",
      "46\n",
      "47\n",
      "48\n",
      "49\n",
      "50\n",
      "51\n",
      "52\n",
      "53\n",
      "54\n",
      "55\n",
      "56\n",
      "57\n",
      "58\n",
      "59\n",
      "60\n",
      "61\n",
      "62\n",
      "63\n",
      "64\n",
      "65\n",
      "66\n",
      "67\n",
      "68\n",
      "69\n",
      "70\n",
      "71\n",
      "72\n",
      "73\n",
      "74\n",
      "75\n",
      "76\n",
      "77\n",
      "78\n",
      "79\n",
      "80\n",
      "81\n",
      "82\n",
      "83\n",
      "84\n",
      "85\n",
      "86\n",
      "87\n",
      "88\n",
      "89\n",
      "90\n",
      "91\n",
      "92\n",
      "93\n",
      "94\n",
      "95\n",
      "96\n",
      "97\n",
      "98\n",
      "99\n",
      "100\n"
     ]
    }
   ],
   "source": [
    "# print 1 to 100\n",
    "i = 1\n",
    "while i<=100:\n",
    "    print(i)\n",
    "    i += 1\n"
   ]
  },
  {
   "cell_type": "code",
   "execution_count": 2,
   "id": "520b40d0",
   "metadata": {},
   "outputs": [],
   "source": [
    "i = 100\n",
    "while i<=1:\n",
    "    print(i)\n",
    "    i -= 1"
   ]
  },
  {
   "cell_type": "code",
   "execution_count": 4,
   "id": "505ef328",
   "metadata": {},
   "outputs": [
    {
     "name": "stdout",
     "output_type": "stream",
     "text": [
      "enter a number5\n",
      "5\n",
      "10\n",
      "15\n",
      "20\n",
      "25\n",
      "30\n",
      "35\n",
      "40\n",
      "45\n",
      "50\n"
     ]
    }
   ],
   "source": [
    "n = int(input(\"enter a number\"))\n",
    "i = 1\n",
    "while i<=10:\n",
    "    print(n*i)\n",
    "    i+=1"
   ]
  },
  {
   "cell_type": "code",
   "execution_count": 3,
   "id": "000c09cc",
   "metadata": {},
   "outputs": [
    {
     "name": "stdout",
     "output_type": "stream",
     "text": [
      "5\n",
      "4\n",
      "3\n",
      "2\n",
      "1\n"
     ]
    }
   ],
   "source": [
    "## recursive fuction \n",
    "\n",
    "def show(n):\n",
    "    if (n == 0):\n",
    "        return\n",
    "    print(n)\n",
    "    show(n-1)\n",
    "show(5)"
   ]
  },
  {
   "cell_type": "code",
   "execution_count": null,
   "id": "47ad611f",
   "metadata": {},
   "outputs": [],
   "source": []
  }
 ],
 "metadata": {
  "kernelspec": {
   "display_name": "Python 3 (ipykernel)",
   "language": "python",
   "name": "python3"
  },
  "language_info": {
   "codemirror_mode": {
    "name": "ipython",
    "version": 3
   },
   "file_extension": ".py",
   "mimetype": "text/x-python",
   "name": "python",
   "nbconvert_exporter": "python",
   "pygments_lexer": "ipython3",
   "version": "3.9.12"
  }
 },
 "nbformat": 4,
 "nbformat_minor": 5
}
