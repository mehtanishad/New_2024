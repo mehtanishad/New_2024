{
 "cells": [
  {
   "cell_type": "code",
   "execution_count": 6,
   "id": "69a668b9",
   "metadata": {},
   "outputs": [
    {
     "name": "stdout",
     "output_type": "stream",
     "text": [
      "enter a number 5\n",
      "positive number\n"
     ]
    }
   ],
   "source": [
    "# Write a Python program to check if a number is positive, negative or zero.\n",
    "num = int(input(\"enter a number \"))\n",
    "if num > 0:\n",
    "    print(\"positive number\")\n",
    "elif num == 0:\n",
    "    print(\"zero\")\n",
    "else:\n",
    "    print(\"negative number\")"
   ]
  },
  {
   "cell_type": "code",
   "execution_count": 4,
   "id": "0daf7543",
   "metadata": {},
   "outputs": [
    {
     "name": "stdout",
     "output_type": "stream",
     "text": [
      "enter a number 5\n",
      "The factorial of 5 is 120\n"
     ]
    }
   ],
   "source": [
    "# Write a Python program to get the Factorial number of given number.\n",
    "num = int(input(\"enter a number \"))\n",
    "factorial = 1\n",
    "for i in range(1, num + 1):\n",
    "    factorial = factorial * i\n",
    "print(\"The factorial of\",num,\"is\",factorial)\n",
    "    \n"
   ]
  },
  {
   "cell_type": "code",
   "execution_count": 7,
   "id": "6e170f87",
   "metadata": {},
   "outputs": [
    {
     "name": "stdout",
     "output_type": "stream",
     "text": [
      "Fibonacci series  0 1 1 2 3 5 8 13 21 34 55 89 144 233 377 610 987 1597 2584 4181 \n"
     ]
    }
   ],
   "source": [
    "# Write a Python program to get the Fibonacci series of given range.\n",
    "num = 20\n",
    "n1, n2 = 0, 1\n",
    "print(\"Fibonacci series \", n1, n2, end = \" \")\n",
    "for i in range(2, num):\n",
    "    n3 = n1+n2\n",
    "    n1 = n2\n",
    "    n2 = n3\n",
    "    print(n3, end = \" \")\n",
    "print()"
   ]
  },
  {
   "cell_type": "code",
   "execution_count": 14,
   "id": "618a8e80",
   "metadata": {},
   "outputs": [
    {
     "name": "stdout",
     "output_type": "stream",
     "text": [
      "enter a number 5\n",
      "enter a number 7\n",
      "before swaping, a = 5 b = 7\n",
      "after swaping\", a = 7 b = 5\n"
     ]
    }
   ],
   "source": [
    "# Write python program that swap two number with temp variable and without temp variable.\n",
    "a = int(input(\"enter a number \"))\n",
    "b = int(input(\"enter a number \"))\n",
    "print(f'before swaping, a = {a } b = {b }')\n",
    "temp = a\n",
    "a = b\n",
    "b = temp\n",
    "print(f'after swaping\", a = {a } b = {b }')\n"
   ]
  },
  {
   "cell_type": "code",
   "execution_count": 19,
   "id": "71ff4aeb",
   "metadata": {},
   "outputs": [
    {
     "name": "stdout",
     "output_type": "stream",
     "text": [
      "a =  15\n",
      "b =  10\n"
     ]
    }
   ],
   "source": [
    "# Write python program that swap two number without temp variable.\n",
    "\n",
    "a = 10\n",
    "b = 15\n",
    "\n",
    "a, b = b, a\n",
    "print(\"a = \", a)\n",
    "print(\"b = \", b)\n",
    "\n"
   ]
  },
  {
   "cell_type": "code",
   "execution_count": 21,
   "id": "c365370a",
   "metadata": {},
   "outputs": [
    {
     "name": "stdout",
     "output_type": "stream",
     "text": [
      "enter a number4\n",
      "even\n"
     ]
    }
   ],
   "source": [
    "#  Write a Python program to find whether a given number is even or odd, print out an appropriate message to the user.\n",
    "\n",
    "num = int(input(\"enter a number\"))\n",
    "if (num % 2) == 0:\n",
    "    print(\"even\")\n",
    "else:\n",
    "    print(\"odd\")"
   ]
  },
  {
   "cell_type": "code",
   "execution_count": 31,
   "id": "a562ec24",
   "metadata": {},
   "outputs": [
    {
     "name": "stdout",
     "output_type": "stream",
     "text": [
      "enter a letterr\n",
      "r is not vowel\n"
     ]
    }
   ],
   "source": [
    "# Write a Python program to test whether a passed letter is a vowel or not.\n",
    "\n",
    "a = input(\"enter a letter: \")\n",
    "if a==\"a\" or a==\"e\" or a==\"i\" or a==\"o\" or a==\"u\":\n",
    "    print(f'{a} is vowel')\n",
    "else:\n",
    "    print(f'{a} is not vowel')"
   ]
  },
  {
   "cell_type": "code",
   "execution_count": null,
   "id": "64fd049e",
   "metadata": {},
   "outputs": [],
   "source": [
    "#  Write a Python program to sum of three given integers. However, if two values are equal sum will be zero\n",
    "a = input(\"enter a first number: \")\n",
    "b = input(\"enter a second number: \")\n",
    "c = input(\"enter a thurd number: \")\n",
    "if a==b or b==c or a==c:\n",
    "    print(\"sum = 0\")\n",
    "else:\n",
    "    sum = a+b+c\n",
    "    print(sum)"
   ]
  },
  {
   "cell_type": "code",
   "execution_count": null,
   "id": "8229a83a",
   "metadata": {},
   "outputs": [],
   "source": []
  }
 ],
 "metadata": {
  "kernelspec": {
   "display_name": "Python 3 (ipykernel)",
   "language": "python",
   "name": "python3"
  },
  "language_info": {
   "codemirror_mode": {
    "name": "ipython",
    "version": 3
   },
   "file_extension": ".py",
   "mimetype": "text/x-python",
   "name": "python",
   "nbconvert_exporter": "python",
   "pygments_lexer": "ipython3",
   "version": "3.9.12"
  }
 },
 "nbformat": 4,
 "nbformat_minor": 5
}
